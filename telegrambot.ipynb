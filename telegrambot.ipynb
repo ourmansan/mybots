{
 "cells": [
  {
   "cell_type": "code",
   "execution_count": 14,
   "metadata": {},
   "outputs": [
    {
     "ename": "RuntimeError",
     "evalue": "asyncio.run() cannot be called from a running event loop",
     "output_type": "error",
     "traceback": [
      "\u001b[0;31m---------------------------------------------------------------------------\u001b[0m",
      "\u001b[0;31mRuntimeError\u001b[0m                              Traceback (most recent call last)",
      "Cell \u001b[0;32mIn[14], line 69\u001b[0m\n\u001b[1;32m     66\u001b[0m     \u001b[38;5;28;01mawait\u001b[39;00m application\u001b[38;5;241m.\u001b[39mupdater\u001b[38;5;241m.\u001b[39mstart_polling()\n\u001b[1;32m     68\u001b[0m \u001b[38;5;28;01mif\u001b[39;00m \u001b[38;5;18m__name__\u001b[39m \u001b[38;5;241m==\u001b[39m \u001b[38;5;124m'\u001b[39m\u001b[38;5;124m__main__\u001b[39m\u001b[38;5;124m'\u001b[39m:\n\u001b[0;32m---> 69\u001b[0m     \u001b[43masyncio\u001b[49m\u001b[38;5;241;43m.\u001b[39;49m\u001b[43mrun\u001b[49m\u001b[43m(\u001b[49m\u001b[43mmain\u001b[49m\u001b[43m(\u001b[49m\u001b[43m)\u001b[49m\u001b[43m)\u001b[49m\n",
      "File \u001b[0;32m/usr/lib/python3.10/asyncio/runners.py:33\u001b[0m, in \u001b[0;36mrun\u001b[0;34m(main, debug)\u001b[0m\n\u001b[1;32m      9\u001b[0m \u001b[39m\u001b[39m\u001b[39m\"\"\"Execute the coroutine and return the result.\u001b[39;00m\n\u001b[1;32m     10\u001b[0m \n\u001b[1;32m     11\u001b[0m \u001b[39mThis function runs the passed coroutine, taking care of\u001b[39;00m\n\u001b[0;32m   (...)\u001b[0m\n\u001b[1;32m     30\u001b[0m \u001b[39m    asyncio.run(main())\u001b[39;00m\n\u001b[1;32m     31\u001b[0m \u001b[39m\"\"\"\u001b[39;00m\n\u001b[1;32m     32\u001b[0m \u001b[39mif\u001b[39;00m events\u001b[39m.\u001b[39m_get_running_loop() \u001b[39mis\u001b[39;00m \u001b[39mnot\u001b[39;00m \u001b[39mNone\u001b[39;00m:\n\u001b[0;32m---> 33\u001b[0m     \u001b[39mraise\u001b[39;00m \u001b[39mRuntimeError\u001b[39;00m(\n\u001b[1;32m     34\u001b[0m         \u001b[39m\"\u001b[39m\u001b[39masyncio.run() cannot be called from a running event loop\u001b[39m\u001b[39m\"\u001b[39m)\n\u001b[1;32m     36\u001b[0m \u001b[39mif\u001b[39;00m \u001b[39mnot\u001b[39;00m coroutines\u001b[39m.\u001b[39miscoroutine(main):\n\u001b[1;32m     37\u001b[0m     \u001b[39mraise\u001b[39;00m \u001b[39mValueError\u001b[39;00m(\u001b[39m\"\u001b[39m\u001b[39ma coroutine was expected, got \u001b[39m\u001b[39m{!r}\u001b[39;00m\u001b[39m\"\u001b[39m\u001b[39m.\u001b[39mformat(main))\n",
      "\u001b[0;31mRuntimeError\u001b[0m: asyncio.run() cannot be called from a running event loop"
     ]
    }
   ],
   "source": [
    "import logging\n",
    "import requests\n",
    "from telegram import Update\n",
    "from telegram.ext import ApplicationBuilder, CommandHandler, ContextTypes\n",
    "import asyncio\n",
    "\n",
    "# Logging Configuration\n",
    "logging.basicConfig(\n",
    "    format='%(asctime)s - %(name)s - %(levelname)s - %(message)s',\n",
    "    level=logging.INFO,\n",
    "    filename='stockbot.log',  # Log to a file\n",
    "    filemode='a'             # Append to the log file\n",
    ")\n",
    "logger = logging.getLogger(__name__)\n",
    "\n",
    "# API Keys\n",
    "ALPHA_VANTAGE_API_KEY = 'EECJXRG8UJMAGE6M'\n",
    "TELEGRAM_BOT_TOKEN = '6709242892:AAE96KVSuKfw3ZiCLcCfZgmfSeEmoCbEQyQ'\n",
    "\n",
    "\n",
    "# --- Command Handlers ---\n",
    "\n",
    "async def start(update: Update, context: ContextTypes.DEFAULT_TYPE):\n",
    "    print(\"Start command received\") \n",
    "    await context.bot.send_message(chat_id=update.effective_chat.id, text=\"Welcome to the Stock Bot! Use /price <symbol> to get the current stock price.\")\n",
    "\n",
    "async def get_price(update: Update, context: ContextTypes.DEFAULT_TYPE):\n",
    "    if len(context.args) == 0:\n",
    "        await context.bot.send_message(chat_id=update.effective_chat.id, text=\"Please provide a stock symbol (e.g., /price AAPL)\")\n",
    "        return\n",
    "\n",
    "    symbol = context.args[0].upper()\n",
    "    url = f'https://www.alphavantage.co/query?function=GLOBAL_QUOTE&symbol={symbol}&apikey={ALPHA_VANTAGE_API_KEY}'\n",
    "\n",
    "    try:\n",
    "        response = requests.get(url)\n",
    "        data = response.json()\n",
    "\n",
    "        if 'Error Message' in data:\n",
    "            await context.bot.send_message(chat_id=update.effective_chat.id, text='Invalid stock symbol or API error.')\n",
    "        elif data[\"Global Quote\"][\"05. price\"] == \"0.0000\":\n",
    "            await context.bot.send_message(chat_id=update.effective_chat.id, text='Symbol not found or market closed.')\n",
    "        else:\n",
    "            price = data[\"Global Quote\"][\"05. price\"]\n",
    "            await context.bot.send_message(chat_id=update.effective_chat.id, text=f'Current price of {symbol}: ${price}')\n",
    "\n",
    "    except requests.exceptions.RequestException as e:\n",
    "        logger.error(f\"Request error: {e}\")\n",
    "        await context.bot.send_message(chat_id=update.effective_chat.id, text='Error fetching data. Please try again later.')\n",
    "    except Exception as e:\n",
    "        logger.error(f\"Unexpected error: {e}\")\n",
    "        await context.bot.send_message(chat_id=update.effective_chat.id, text='An unexpected error occurred. Please try again later.')\n",
    "\n",
    "\n",
    "# --- Main Function ---\n",
    "\n",
    "async def main() -> None:\n",
    "    \"\"\"Start the bot.\"\"\"\n",
    "    application = ApplicationBuilder().token(TELEGRAM_BOT_TOKEN).build()\n",
    "\n",
    "    application.add_handler(CommandHandler('start', start))\n",
    "    application.add_handler(CommandHandler('price', get_price))\n",
    "\n",
    "    await application.initialize()\n",
    "    await application.start()\n",
    "    await application.updater.start_polling()\n",
    "\n",
    "if __name__ == '__main__':\n",
    "    asyncio.run(main())\n"
   ]
  }
 ],
 "metadata": {
  "kernelspec": {
   "display_name": "Python 3.10.12 64-bit",
   "language": "python",
   "name": "python3"
  },
  "language_info": {
   "codemirror_mode": {
    "name": "ipython",
    "version": 3
   },
   "file_extension": ".py",
   "mimetype": "text/x-python",
   "name": "python",
   "nbconvert_exporter": "python",
   "pygments_lexer": "ipython3",
   "version": "3.10.12"
  },
  "orig_nbformat": 4,
  "vscode": {
   "interpreter": {
    "hash": "916dbcbb3f70747c44a77c7bcd40155683ae19c65e1c03b4aa3499c5328201f1"
   }
  }
 },
 "nbformat": 4,
 "nbformat_minor": 2
}
